{
  "nbformat": 4,
  "nbformat_minor": 0,
  "metadata": {
    "colab": {
      "name": "Task1_DS & BA_GRIP",
      "provenance": [],
      "collapsed_sections": []
    },
    "kernelspec": {
      "name": "python3",
      "display_name": "Python 3"
    },
    "language_info": {
      "name": "python"
    }
  },
  "cells": [
    {
      "cell_type": "markdown",
      "metadata": {
        "id": "8C1jdOinyeBO"
      },
      "source": [
        "**Sahil Borghare**\n",
        "\n",
        " **Task 1 - Prediction using Supervised ML.\n",**"
        "*  Predict the percentage of an student based on the no. of study hours.\n",
    "*
        **Predict the percentage of a student based on the no. of study hours**"
      ]
    },
    {
      "cell_type": "code",
      "metadata": {
        "id": "pvuVZOKP5DGj"
      },
      "source": [
        "#Importing the required libraries in this notebook\n",
        "import pandas as pd\n",
        "import numpy as np\n",
        "import matplotlib.pyplot as plt\n",
        "%matplotlib inline"
      ],
      "execution_count": null,
      "outputs": []
    },
    {
      "cell_type": "code",
      "metadata": {
        "colab": {
          "base_uri": "https://localhost:8080/",
          "height": 357
        },
        "id": "bbiW1okI5dt2",
        "outputId": "c13205dd-764d-45a1-c996-262ee6469daa"
      },
      "source": [
        "#Reading data \n",
        "url = \"http://bit.ly/w-data\"\n",
        "data = pd.read_csv(url)\n",
        "\n",
        "#See the first 10 rows of the data\n",
        "data.head(10)\n"
      ],
      "execution_count": null,
      "outputs": [
        {
          "output_type": "execute_result",
          "data": {
            "text/html": [
              "<div>\n",
              "<style scoped>\n",
              "    .dataframe tbody tr th:only-of-type {\n",
              "        vertical-align: middle;\n",
              "    }\n",
              "\n",
              "    .dataframe tbody tr th {\n",
              "        vertical-align: top;\n",
              "    }\n",
              "\n",
              "    .dataframe thead th {\n",
              "        text-align: right;\n",
              "    }\n",
              "</style>\n",
              "<table border=\"1\" class=\"dataframe\">\n",
              "  <thead>\n",
              "    <tr style=\"text-align: right;\">\n",
              "      <th></th>\n",
              "      <th>Hours</th>\n",
              "      <th>Scores</th>\n",
              "    </tr>\n",
              "  </thead>\n",
              "  <tbody>\n",
              "    <tr>\n",
              "      <th>0</th>\n",
              "      <td>2.5</td>\n",
              "      <td>21</td>\n",
              "    </tr>\n",
              "    <tr>\n",
              "      <th>1</th>\n",
              "      <td>5.1</td>\n",
              "      <td>47</td>\n",
              "    </tr>\n",
              "    <tr>\n",
              "      <th>2</th>\n",
              "      <td>3.2</td>\n",
              "      <td>27</td>\n",
              "    </tr>\n",
              "    <tr>\n",
              "      <th>3</th>\n",
              "      <td>8.5</td>\n",
              "      <td>75</td>\n",
              "    </tr>\n",
              "    <tr>\n",
              "      <th>4</th>\n",
              "      <td>3.5</td>\n",
              "      <td>30</td>\n",
              "    </tr>\n",
              "    <tr>\n",
              "      <th>5</th>\n",
              "      <td>1.5</td>\n",
              "      <td>20</td>\n",
              "    </tr>\n",
              "    <tr>\n",
              "      <th>6</th>\n",
              "      <td>9.2</td>\n",
              "      <td>88</td>\n",
              "    </tr>\n",
              "    <tr>\n",
              "      <th>7</th>\n",
              "      <td>5.5</td>\n",
              "      <td>60</td>\n",
              "    </tr>\n",
              "    <tr>\n",
              "      <th>8</th>\n",
              "      <td>8.3</td>\n",
              "      <td>81</td>\n",
              "    </tr>\n",
              "    <tr>\n",
              "      <th>9</th>\n",
              "      <td>2.7</td>\n",
              "      <td>25</td>\n",
              "    </tr>\n",
              "  </tbody>\n",
              "</table>\n",
              "</div>"
            ],
            "text/plain": [
              "   Hours  Scores\n",
              "0    2.5      21\n",
              "1    5.1      47\n",
              "2    3.2      27\n",
              "3    8.5      75\n",
              "4    3.5      30\n",
              "5    1.5      20\n",
              "6    9.2      88\n",
              "7    5.5      60\n",
              "8    8.3      81\n",
              "9    2.7      25"
            ]
          },
          "metadata": {
            "tags": []
          },
          "execution_count": 2
        }
      ]
    },
    {
      "cell_type": "code",
      "metadata": {
        "colab": {
          "base_uri": "https://localhost:8080/",
          "height": 295
        },
        "id": "gNMVtLd58RBV",
        "outputId": "90f02275-980b-4ef1-b398-a98f155bf946"
      },
      "source": [
        "# Visualizing the data \n",
        "data.plot(x='Hours', y='Scores', style='o')  \n",
        "plt.title('Hours vs Percentage')  \n",
        "plt.xlabel('Hours Studied')  \n",
        "plt.ylabel('Percentage Score')  \n",
        "plt.show()"
      ],
      "execution_count": null,
      "outputs": [
        {
          "output_type": "display_data",
          "data": {
            "image/png": "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\n",
            "text/plain": [
              "<Figure size 432x288 with 1 Axes>"
            ]
          },
          "metadata": {
            "tags": [],
            "needs_background": "light"
          }
        }
      ]
    },
    {
      "cell_type": "markdown",
      "metadata": {
        "id": "9A27aTnLCJux"
      },
      "source": [
        "Preparing the data\n"
      ]
    },
    {
      "cell_type": "code",
      "metadata": {
        "id": "xjoofVqW9JNl"
      },
      "source": [
        "#Attributes and Labels\n",
        "x = data.iloc[:, :-1].values  \n",
        "y = data.iloc[:, 1].values "
      ],
      "execution_count": null,
      "outputs": []
    },
    {
      "cell_type": "code",
      "metadata": {
        "id": "voQCNi2_-YJs"
      },
      "source": [
        "#Splitting the data into training and testing sets\n",
        "from sklearn.model_selection import train_test_split  \n",
        "x_train, x_test, y_train, y_test = train_test_split(x, y, test_size=0.2, random_state=0) "
      ],
      "execution_count": null,
      "outputs": []
    },
    {
      "cell_type": "markdown",
      "metadata": {
        "id": "aoYvD8ye_RHd"
      },
      "source": [
        "Training the Algorithm\n"
      ]
    },
    {
      "cell_type": "code",
      "metadata": {
        "colab": {
          "base_uri": "https://localhost:8080/"
        },
        "id": "Su1u8nTw_ZjR",
        "outputId": "b2ba8803-c76f-4678-f250-f0419d361b86"
      },
      "source": [
        "from sklearn.linear_model import LinearRegression  \n",
        "regressor = LinearRegression()  \n",
        "regressor.fit(x_train, y_train) \n",
        "\n",
        "print(\"Training complete.\")"
      ],
      "execution_count": null,
      "outputs": [
        {
          "output_type": "stream",
          "text": [
            "Training complete.\n"
          ],
          "name": "stdout"
        }
      ]
    },
    {
      "cell_type": "code",
      "metadata": {
        "colab": {
          "base_uri": "https://localhost:8080/",
          "height": 265
        },
        "id": "EPHDXfh1_ymc",
        "outputId": "f5a419e2-4921-4fd0-e9f4-d353b560a1cd"
      },
      "source": [
        "# Visualizing the regression line\n",
        "line = regressor.coef_*x + regressor.intercept_\n",
        "\n",
        "# Plotting for the test data\n",
        "plt.scatter(x, y)\n",
        "plt.plot(x, line);\n",
        "plt.show()"
      ],
      "execution_count": null,
      "outputs": [
        {
          "output_type": "display_data",
          "data": {
            "image/png": "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\n",
            "text/plain": [
              "<Figure size 432x288 with 1 Axes>"
            ]
          },
          "metadata": {
            "tags": [],
            "needs_background": "light"
          }
        }
      ]
    },
    {
      "cell_type": "code",
      "metadata": {
        "colab": {
          "base_uri": "https://localhost:8080/"
        },
        "id": "UT91rN2yAxLU",
        "outputId": "e5edb777-a9d5-4e7a-eea0-96d86969d395"
      },
      "source": [
        "print(\"Coefficient is :\", regressor.coef_)\n",
        "print(\"Intercept is :\", regressor.intercept_)\n"
      ],
      "execution_count": null,
      "outputs": [
        {
          "output_type": "stream",
          "text": [
            "Coefficient is : [9.91065648]\n",
            "Intercept is : 2.018160041434662\n"
          ],
          "name": "stdout"
        }
      ]
    },
    {
      "cell_type": "markdown",
      "metadata": {
        "id": "X7pv3kXBCWAU"
      },
      "source": [
        "Making predictions "
      ]
    },
    {
      "cell_type": "code",
      "metadata": {
        "id": "EH1Yqv4HCg8U"
      },
      "source": [
        "# Predicting the scores on testing set\n",
        "y_pred = regressor.predict(x_test) "
      ],
      "execution_count": null,
      "outputs": []
    },
    {
      "cell_type": "code",
      "metadata": {
        "colab": {
          "base_uri": "https://localhost:8080/",
          "height": 203
        },
        "id": "g5JEYipTDHCC",
        "outputId": "00d3a269-16f3-4512-9239-2c4e33825a39"
      },
      "source": [
        "# Comparing Actual vs Predicted values of y (for each x_test)\n",
        "df = pd.DataFrame({'Actual': y_test, 'Predicted': y_pred})  \n",
        "df "
      ],
      "execution_count": null,
      "outputs": [
        {
          "output_type": "execute_result",
          "data": {
            "text/html": [
              "<div>\n",
              "<style scoped>\n",
              "    .dataframe tbody tr th:only-of-type {\n",
              "        vertical-align: middle;\n",
              "    }\n",
              "\n",
              "    .dataframe tbody tr th {\n",
              "        vertical-align: top;\n",
              "    }\n",
              "\n",
              "    .dataframe thead th {\n",
              "        text-align: right;\n",
              "    }\n",
              "</style>\n",
              "<table border=\"1\" class=\"dataframe\">\n",
              "  <thead>\n",
              "    <tr style=\"text-align: right;\">\n",
              "      <th></th>\n",
              "      <th>Actual</th>\n",
              "      <th>Predicted</th>\n",
              "    </tr>\n",
              "  </thead>\n",
              "  <tbody>\n",
              "    <tr>\n",
              "      <th>0</th>\n",
              "      <td>20</td>\n",
              "      <td>16.884145</td>\n",
              "    </tr>\n",
              "    <tr>\n",
              "      <th>1</th>\n",
              "      <td>27</td>\n",
              "      <td>33.732261</td>\n",
              "    </tr>\n",
              "    <tr>\n",
              "      <th>2</th>\n",
              "      <td>69</td>\n",
              "      <td>75.357018</td>\n",
              "    </tr>\n",
              "    <tr>\n",
              "      <th>3</th>\n",
              "      <td>30</td>\n",
              "      <td>26.794801</td>\n",
              "    </tr>\n",
              "    <tr>\n",
              "      <th>4</th>\n",
              "      <td>62</td>\n",
              "      <td>60.491033</td>\n",
              "    </tr>\n",
              "  </tbody>\n",
              "</table>\n",
              "</div>"
            ],
            "text/plain": [
              "   Actual  Predicted\n",
              "0      20  16.884145\n",
              "1      27  33.732261\n",
              "2      69  75.357018\n",
              "3      30  26.794801\n",
              "4      62  60.491033"
            ]
          },
          "metadata": {
            "tags": []
          },
          "execution_count": 18
        }
      ]
    },
    {
      "cell_type": "code",
      "metadata": {
        "colab": {
          "base_uri": "https://localhost:8080/",
          "height": 575
        },
        "id": "y0iCttUnEGwJ",
        "outputId": "62f6445c-9330-48de-fa8e-c43441590a8e"
      },
      "source": [
        "#visualizing the Actual vs Predicted values \n",
        "plt.scatter(x_test, y_test)\n",
        "plt.title('Actual values')\n",
        "plt.xlabel('x_test values')\n",
        "plt.ylabel('y_test values')\n",
        "plt.show()\n",
        "\n",
        "plt.scatter(x_test, y_pred)\n",
        "plt.title('Predicted values')\n",
        "plt.xlabel('x_test values')\n",
        "plt.ylabel('y_pred values')\n",
        "plt.show()"
      ],
      "execution_count": null,
      "outputs": [
        {
          "output_type": "display_data",
          "data": {
            "image/png": "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\n",
            "text/plain": [
              "<Figure size 432x288 with 1 Axes>"
            ]
          },
          "metadata": {
            "tags": [],
            "needs_background": "light"
          }
        },
        {
          "output_type": "display_data",
          "data": {
            "image/png": "iVBORw0KGgoAAAANSUhEUgAAAX8AAAEXCAYAAABF40RQAAAABHNCSVQICAgIfAhkiAAAAAlwSFlzAAALEgAACxIB0t1+/AAAADh0RVh0U29mdHdhcmUAbWF0cGxvdGxpYiB2ZXJzaW9uMy4yLjIsIGh0dHA6Ly9tYXRwbG90bGliLm9yZy+WH4yJAAAam0lEQVR4nO3de5QdZZ3u8e9DCNKEQHOJOSEE41EMw+hImD5cRkcZLkYHlAyjqOMFPKxBHJfiLSNxeUEXKk7meJlxRo0ymqMgAobAQSUyCI54ARMCBghZUYSBToBGaQnYagjP+WO/jZ2QTu++VO/eXc9nrb121Vu7qn67s/Ls2m/Vrle2iYiIetml1QVERMT4S/hHRNRQwj8iooYS/hERNZTwj4iooYR/REQNJfxj0pL0FUnnlem/lLR+nPZrSc8e423OLdvddSy3G/WV8I+WknS3pD5Jj0p6oAT2nmO9H9s/sD2viXpOl3TDWO8/YqJJ+MdE8HLbewKHA13A+7d/QY54I8ZWwj8mDNvdwHeA58KT3SdvlbQB2FDaTpJ0i6ReST+S9Gf960uaL+lmSZslfQPYfcCyYyTdN2B+jqTlknok/UrSZyX9CfB54OjyTaS3vPZpkv5Z0n+Xbyefl9QxYFuLJG2StFHS/x7s/Ul6taRV27W9U9KVZfpESWskPSLpXknn7mRbd0s6fsD8uZK+NmD+qPL36ZV0q6RjBiw7XdJd5e/0S0mvG2w/MXkl/GPCkDQH+GtgzYDmhcCRwKGS5gP/AbwZ2A/4AnBlCefdgBXAV4F9gUuBvx1kP1OAq4B7gLnAbOBi2+uAs4Af297TdmdZ5XzgOcBhwLPL6z9YtvVS4D3ACcDBwPEM7v8B8yQdPKDt74CLyvRjwBuBTuBE4C2SFu5kezskaTbwLeA8Gn+L9wDflDRD0jTgX4CX2Z4O/AVwy3D3Ee0v4R8TwYpylH0D8H3gYwOWfdz2r233AWcCX7B9o+2ttpcBvweOKo+pwKdtb7F9GfDTQfZ3BHAAsMj2Y7Z/Z3uH/fySVPb7zlLH5lLfa8pLTgW+bPs2248B5w72Jm3/FrgCeG3Z9sHAIcCVZfn1ttfafsL2z4CvAy8e9K82uNcD37b97bKta4BVND5YAZ4Aniupw/Ym27ePYB/R5hL+MREstN1p+xm2/6EEfb97B0w/A3h36croLR8Yc2gE+QFAt7e9U+E9g+xvDnCP7cebqG0GsAewesA+ry7tlP0OrHGwffa7iBL+NI76V5QPBSQdKem60hX1GxrfQvZvosbtPQN41XZ/pxcCs8oH1KvLtjdJ+pakQ0awj2hzCf+Y6AaG+b3AR8sHRf9jD9tfBzYBs8uRer+DBtnmvcBBg5xE3v42tw8BfcCfDtjn3uUENWW/c5rYZ79rgBmSDqPxIXDRgGUX0fgWMMf23jTOP+ipmwAaXUR7DJj/HwOm7wW+ut3faZrt8wFsr7R9AjALuBP44hA1xySU8I928kXgrHKELEnTyknS6cCPgceBt0uaKukUGt07O3ITjdA+v2xjd0kvKMseAA4s5xCw/UTZ76ckPR0afeqSFpTXXwKcLulQSXsAH9rZG7C9hcb5iCU0+uOvGbB4OvBr27+TdASNbwaDuQV4TXmvXcArByz7GvBySQskTSnv7xhJB0qaKenk0vf/e+BRGt1AUTMJ/2gbtlcBfw98FngY+Dlweln2B+CUMv9rGl0bywfZzlbg5TRO3v43cF95PcD3gNuB+yU9VNreW/b1E0mPAP8JzCvb+g7w6bLez8vzUC6icWL40u26nv4B+IikzTROKF+yk218AHgWjb/DhxnwDcL2vcDJwPuAHhrfBBbR+P++C/AuYCONv9OLgbc0UXNMMspgLhER9ZMj/4iIGkr4R0TUUMI/IqKGEv4RETXUNjfL2n///T137txWlxER0VZWr179kO0Z27e3TfjPnTuXVatWDf3CiIh4kqQd/uo83T4RETWU8I+IqKGEf0REDSX8IyJqKOEfEVFDbXO1T0REnaxY082SlevZ2NvHAZ0dLFowj4XzZ4/Z9hP+ERETzIo13Sxevpa+LVsB6O7tY/HytQBj9gGQbp+IiAlmycr1TwZ/v74tW1mycv2Y7SPhHxExwWzs7RtW+0gk/CMiJpgDOjuG1T4SCf+IiAlm0YJ5dEydsk1bx9QpLFowb8z2kRO+ERETTP9J3VztExFRMwvnzx7TsN9eun0iImoo4R8RUUMJ/4iIGkr4R0TUUMI/IqKGEv4RETWU8I+IqKGEf0REDSX8IyJqKOEfEVFDlYa/pHmSbhnweETSOyTtK+kaSRvK8z5V1hEREduqNPxtr7d9mO3DgD8HfgtcDpwDXGv7YODaMh8REeNkPLt9jgN+Yfse4GRgWWlfBiwcxzoiImpvPMP/NcDXy/RM25vK9P3AzB2tIOlMSaskrerp6RmPGiMiamFcwl/SbsArgEu3X2bbgHe0nu2ltrtsd82YMaPiKiMi6mO8jvxfBtxs+4Ey/4CkWQDl+cFxqiMiIhi/8H8tf+zyAbgSOK1MnwZcMU51REQE4xD+kqYBJwDLBzSfD5wgaQNwfJmPiIhxUvkwjrYfA/bbru1XNK7+iYiIFsgvfCMiaijhHxFRQwn/iIgaSvhHRNRQwj8iooYS/hERNZTwj4iooYR/REQNJfwjImoo4R8RUUMJ/4iIGkr4R0TUUMI/IqKGEv4RETWU8I+IqKGEf0REDSX8IyJqKOEfEVFDCf+IiBpK+EdE1FDCPyKihhL+ERE1lPCPiKihhH9ERA3t2uoCImLyW7GmmyUr17Oxt48DOjtYtGAeC+fPbnVZtVb5kb+kTkmXSbpT0jpJR0vaV9I1kjaU532qriMiWmPFmm4WL19Ld28fBrp7+1i8fC0r1nS3urRaG49un88AV9s+BHg+sA44B7jW9sHAtWU+IiahJSvX07dl6zZtfVu2smTl+hZVFFBx+EvaG3gRcAGA7T/Y7gVOBpaVly0DFlZZR0S0zsbevmG1x/io+sj/mUAP8GVJayR9SdI0YKbtTeU19wMzd7SypDMlrZK0qqenp+JSI6IKB3R2DKs9xkfV4b8rcDjwOdvzgcfYrovHtgHvaGXbS2132e6aMWNGxaVGRBUWLZhHx9Qp27R1TJ3CogXzWlRRQPXhfx9wn+0by/xlND4MHpA0C6A8P1hxHRHRIgvnz+bjpzyP2Z0dCJjd2cHHT3lervZpsUov9bR9v6R7Jc2zvR44DrijPE4Dzi/PV1RZR0S01sL5sxP2E8x4XOf/NuBCSbsBdwFvovGN4xJJZwD3AKeOQx0REVFUHv62bwG6drDouKr3HRERO5bbO0RE1FDCPyKihhL+ERE1lPCPiKihhH9ERA0l/CMiaijhHxFRQwn/iIgaSvhHRNRQU+Ev6VWSppfp90taLunwakuLiIiqNHvk/wHbmyW9EDiexuAsn6uurIiIqFKz4d8/BtuJwFLb3wJ2q6akiIioWrPh3y3pC8CrgW9Letow1o2IiAmm2QA/FVgJLChj8O4LLKqsqoiIqFRT4W/7tzRG23phaXoc2FBVURERUa1mr/b5EPBeYHFpmgp8raqiIiKiWs12+/wN8AoaA7BjeyMwvaqiIiKiWs2G/x9sGzCApGnVlRQREVVrNvwvKVf7dEr6e+A/gS9WV1ZERFSpqTF8bf+zpBOAR4B5wAdtX1NpZRERUZmmB3AvYZ/Aj4iYBJoKf0mbKf39NH7ZOxV4zPZeVRUWERHVabbb58kreyQJOBk4qqqiIiKiWsO+RYMbVgALKqgnIiLGQbPdPqcMmN0F6AJ+V0lFERFRuWZP+L58wPTjwN00un6GJOluYDONO4M+brtL0r7AN4C5ZVun2n64yVoiImKUmu3zf9Mo9/NXth8aMH8OcK3t8yWdU+bfO8p9REREk3Ya/pL+lT9e5fMUtt8+wv2eDBxTppcB15Pwj4gYN0Md+a8ag30Y+K4kA1+wvRSYaXtTWX4/MHNHK0o6EzgT4KCDDhqDUiIiAoYIf9vLxmAfL7TdLenpwDWS7txuHy4fDDva/1JgKUBXV9eg30AiImJ4mr3aZwaNbplDgd37220fO9S6trvL84OSLgeOAB6QNMv2JkmzaIwVEBER46TZ6/wvBNYBzwQ+TOMKnZ8OtZKkaZKm908DLwFuA64ETisvOw24YlhVR0TEqDR7qed+ti+QdLbt7wPflzRk+NPoy7+88aNgdgUusn11WfcSSWcA99AYJjIiIsZJs+G/pTxvknQisJHGOL47Zfsu4Pk7aP8VcFyzRUZExNhqNvzPk7Q38G7gX4G9gHdWVlVERFSq2fC/0fZvgN8Af1VhPRERMQ6aPeH7Q0nflXSGpH0qrSgiIirXVPjbfg7wfuBPgdWSrpL0+kori4iIyjR9S2fbN9l+F43r9H9N47YMERHRhpoKf0l7STpN0neAHwGbaHwIREREG2r2hO+twArgI7Z/XGE9ERExDpoN//9pO/fWiYiYJJo94Zvgj4iYRIY9hm9ERLS/hH9ERA21aiSviIhooaGO/FcBq2ncw/9wYEN5HAbsVm1pERFRlaZG8pL0Fhojcj1e5j8P/KD68iIiogrN9vnvQ+NOnv32LG0REdGGmr3O/3xgjaTrAAEvAs6tqqiIiKhWU+Fv+8vl1g5Hlqb32r6/urIiIqJKzd7bR8DxwPNtXwHsJin39omIaFPN9vn/O3A08Noyvxn4t0oqioiIyjXb53+k7cMlrQGw/bCkXOoZEdGmmj3y3yJpCuUHX5JmAE9UVlVERFSq2fD/F+By4OmSPgrcAHyssqoiIqJSQ3b7SNoF+CXwj8BxNC71XGh7XcW1RURERYYMf9tPSPo32/OBO8ehpoiIqFiz3T7XSvrbcslnRES0uWbD/83ApcAfJG0uj0ea3YmkKZLWSLqqzD9T0o2Sfi7pG7lyKCJifDU7ktd027vYnlqmp9vea+g1n3Q2MPAcwSeAT9l+NvAwcMYwthUREaPU9GAukk6R9ElJ/0fSwmGsdyBwIvClMi/gWOCy8pJlQNPbi4iI0Wv29g7/DpwFrAVuA86S1OwvfD9N40qh/t8F7Af09t8eGrgPmD3Ifs+UtErSqp6eniZ3FxERQ2n2F77HAn/SP5C7pGXA7UOtJOkk4EHbqyUdM9zibC8FlgJ0dXVlEPmIiDHSbPj/HDgIuKfMzyltQ3kB8ApJf01jNLC9gM8AnZJ2LUf/BwLdw6o6IiJGpdk+/+nAOknXl3v63wHsJelKSVcOtpLtxbYPtD0XeA3wPduvA64DXlledhpwxYjfQUREDFuzR/4fHOP9vhe4WNJ5wBrggjHefkRE7ESzg7l8f2fLJf3Y9tFDbON64PoyfReQ8QAiIlqk6Us9h7D7GG0nIiLGwViFf67EiYhoI2MV/hER0UbGKvxzw7eIiDbS7C983yZpn5285A1jVE9ERIyDZo/8ZwI/lXSJpJduf2tn27eNfWkREVGVZu/q+X7gYBrX458ObJD0MUnPqrC2iIioSNN9/uW+PveXx+PAPsBlkv6potoiIqIiTf3IS9LZwBuBh2jcmnmR7S1lfN8NNO7aGRERbaLZ2zvsC5xi+56BjWV835PGvqyIiKhSs7d3+NBOlq0bbFlERExM+ZFXREQNNdvtE/EUK9Z0s2Tlejb29nFAZweLFsxj4fwdDsoWERNMwj9GZMWabhYvX0vflq0AdPf2sXj5WoB8AES0gXT7xIgsWbn+yeDv17dlK0tWrm9RRRExHAn/GJGNvX3Dao+IiSXhHyNyQGfHsNojYmJJ+MeILFowj46pU7Zp65g6hUUL5rWooogYjpzwjRHpP6mbq30i2lPCP0Zs4fzZCfuINpVun4iIGkr4R0TUUMI/IqKGEv4RETVUafhL2l3STZJulXS7pA+X9mdKulHSzyV9Q9JuVdYRERHbqvrI//fAsbafDxwGvFTSUcAngE/ZfjbwMHBGxXVERMQAlYa/Gx4ts1PLw8CxwGWlfRmwsMo6IiJiW5X3+UuaIukW4EHgGuAXQK/tx8tL7gNysXhExDiqPPxtb7V9GHAgcARwSLPrSjpT0ipJq3p6eiqrMSKibsbtah/bvcB1wNFAp6T+XxcfCHQPss5S2122u2bMmDFOlUZETH5VX+0zQ1Jnme4ATgDW0fgQeGV52WnAFVXWERER26r63j6zgGWSptD4oLnE9lWS7gAulnQesAa4oOI6IiJigErD3/bPgPk7aL+LRv9/RES0QH7hGxFRQwn/iIgaSvhHRNRQBnNpIyvWdGfkrIgYEwn/NrFiTTeLl6+lb8tWALp7+1i8fC1APgAiYtjS7dMmlqxc/2Tw9+vbspUlK9e3qKKIaGcJ/zaxsbdvWO0RETuT8G8TB3R2DKs9ImJnEv5tYtGCeXRMnbJNW8fUKSxaMK9FFUVEO8sJ3zbRf1I3V/tExFhI+LeRhfNnJ+wjYkyk2yciooYS/hERNZTwj4iooYR/REQNJfwjImoo4R8RUUMJ/4iIGkr4R0TUUMI/IqKGEv4RETWU8I+IqKGEf0REDSX8IyJqKOEfEVFDlYa/pDmSrpN0h6TbJZ1d2veVdI2kDeV5nyrriIiIbVV95P848G7bhwJHAW+VdChwDnCt7YOBa8t8RESMk0rD3/Ym2zeX6c3AOmA2cDKwrLxsGbCwyjoiImJb49bnL2kuMB+4EZhpe1NZdD8wc5B1zpS0StKqnp6ecakzIqIOxiX8Je0JfBN4h+1HBi6zbcA7Ws/2UttdtrtmzJgxDpVGRNRD5eEvaSqN4L/Q9vLS/ICkWWX5LODBquuIiIg/qvpqHwEXAOtsf3LAoiuB08r0acAVVdYRERHb2rXi7b8AeAOwVtItpe19wPnAJZLOAO4BTq24joiIGKDS8Ld9A6BBFh9X5b4jImJw+YVvREQNJfwjImqo6j7/llqxppslK9ezsbePAzo7WLRgHgvnz251WRERLTdpw3/Fmm4WL19L35atAHT39rF4+VqAfABERO1N2m6fJSvXPxn8/fq2bGXJyvUtqigiYuKYtOG/sbdvWO0REXUyacP/gM6OYbVHRNTJpA3/RQvm0TF1yjZtHVOnsGjBvBZVFBExcUzaE779J3VztU9ExFNN2vCHxgdAwj4i4qkmbbdPREQMLuEfEVFDCf+IiBpK+EdE1FDCPyKihtQYQnfik9RDY+CXiWx/4KFWFzFGJtN7gbyfiWwyvReYeO/nGbafMgh624R/O5C0ynZXq+sYC5PpvUDez0Q2md4LtM/7SbdPREQNJfwjImoo4T+2lra6gDE0md4L5P1MZJPpvUCbvJ/0+UdE1FCO/CMiaijhHxFRQwn/UZI0R9J1ku6QdLuks1td02hI2l3STZJuLe/nw62uabQkTZG0RtJVra5ltCTdLWmtpFskrWp1PaMlqVPSZZLulLRO0tGtrmkkJM0r/yb9j0ckvaPVde1M+vxHSdIsYJbtmyVNB1YDC23f0eLSRkSSgGm2H5U0FbgBONv2T1pc2ohJehfQBexl+6RW1zMaku4GumxPpB8RjZikZcAPbH9J0m7AHrZ7W13XaEiaAnQDR9qesD9MzZH/KNneZPvmMr0ZWAe07SACbni0zE4tj7Y9QpB0IHAi8KVW1xLbkrQ38CLgAgDbf2j34C+OA34xkYMfEv5jStJcYD5wY2srGZ3STXIL8CBwje12fj+fBv4ReKLVhYwRA9+VtFrSma0uZpSeCfQAXy7dcl+SNK3VRY2B1wBfb3URQ0n4jxFJewLfBN5h+5FW1zMatrfaPgw4EDhC0nNbXdNISDoJeND26lbXMoZeaPtw4GXAWyW9qNUFjcKuwOHA52zPBx4DzmltSaNTuq5eAVza6lqGkvAfA6Vv/JvAhbaXt7qesVK+gl8HvLTVtYzQC4BXlH7yi4FjJX2ttSWNju3u8vwgcDlwRGsrGpX7gPsGfLO8jMaHQTt7GXCz7QdaXchQEv6jVE6QXgCss/3JVtczWpJmSOos0x3ACcCdra1qZGwvtn2g7bk0vop/z/brW1zWiEmaVi4qoHSPvAS4rbVVjZzt+4F7Jc0rTccBbXmhxACvpQ26fGCSD+A+Tl4AvAFYW/rJAd5n+9strGk0ZgHLyhULuwCX2G77SyQniZnA5Y3jDXYFLrJ9dWtLGrW3AReW7pK7gDe1uJ4RKx/IJwBvbnUtzcilnhERNZRun4iIGkr4R0TUUMI/IqKGEv4RETWU8I+IqKGEf0REDSX8ozYkzZX0d6NY/31jWMvdkvYfq+1FDFfCP+pkLjDi8AfGLPwjWi3hH21N0v+S9LMyCM20MgDNYDeiOx/4yzLYxjvL3UuXSPpp2cabyzZnSfqv8rrbJP2lpPOBjtJ24XY1nCVpyYD50yV9tkyvKHfgvH1Hd+Es30ZuGzD/HknnlulnSbq6rP8DSYeU9leVum6V9F+j+wtGXeUXvtH2JJ0H7A500LhR2McHed0xwHv6B3QpYfx02+dJehrwQ+BVwCnA7rY/Wm5zsYftzZIetb3nDrY7A/ix7WeX+e8AH7V9g6R9bf+63Cfpp8CLbf+qf1AWYE/gKtvPLeu+B9jT9rmSrgXOsr1B0pHAx20fK2kt8FLb3ZI6J8k98GOc5d4+MRl8hEaw/g54+zDWewnwZ5JeWeb3Bg4u2/qPcrfWFbZvGWwDALZ7JN0l6ShgA3AIjQ8SgLdL+psyPads/1dDFVZuEf4XwKXlXj4ATyvPPwS+IukSYNLcRTbGV8I/JoP9aBxBT6XxDeCxJtcT8DbbK5+yoHGf/BNphOwnbf/fIbZ1MXAqjTugXm7b5ZvG8cDRtn8r6fpS30CPs233a//yXYDeMq7CNmyfVb4JnAislvTntof8QIkYKH3+MRl8AfgAcCHwiZ28bjMwfcD8SuAt5QgfSc8p5w2eATxg+4s0hn/sv8f8lv7X7sDlwMk0bul7cWnbG3i4BP8hwFE7WO8B4OmS9itdTycBlAGBfinpVaU2SXp+mX6W7Rttf5DGSFhzdvKeI3YoR/7R1iS9Edhi+6LSP/8jScfa/t4OXv4zYKukW4GvAJ+hcQXQzWVchh5gIXAMsEjSFuBR4I1l/aXAzyTdbPt1Azds+2FJ64BDbd9Umq8Gzirt64GfbF+Q7S2SPgLcRGPQ74FjJ7wO+Jyk99P4VnMxcCuwRNLBNL65XFvaIoYlJ3wjImoo3T4RETWUbp+YdCQ9D/jqds2/t31kK+qJmIjS7RMRUUPp9omIqKGEf0REDSX8IyJqKOEfEVFD/x9UhfFBlGz8vQAAAABJRU5ErkJggg==\n",
            "text/plain": [
              "<Figure size 432x288 with 1 Axes>"
            ]
          },
          "metadata": {
            "tags": [],
            "needs_background": "light"
          }
        }
      ]
    },
    {
      "cell_type": "code",
      "metadata": {
        "colab": {
          "base_uri": "https://localhost:8080/"
        },
        "id": "f8DPH0nKOHO-",
        "outputId": "41408df8-be81-4314-e4a8-986a59c31996"
      },
      "source": [
        "#testing with my data\n",
        "hours=[[9.25]]\n",
        "predict=regressor.predict(hours)\n",
        "predict"
      ],
      "execution_count": null,
      "outputs": [
        {
          "output_type": "execute_result",
          "data": {
            "text/plain": [
              "array([93.69173249])"
            ]
          },
          "metadata": {
            "tags": []
          },
          "execution_count": 49
        }
      ]
    },
    {
      "cell_type": "markdown",
      "metadata": {
        "id": "GjdtpvO-JJpd"
      },
      "source": [
        "Evaluating the Algorithm"
      ]
    },
    {
      "cell_type": "code",
      "metadata": {
        "colab": {
          "base_uri": "https://localhost:8080/"
        },
        "id": "zicvcAzGJIq4",
        "outputId": "77421f23-4a3b-4c37-e4a9-f34b5836d13e"
      },
      "source": [
        "from sklearn import metrics  \n",
        "print('Mean Absolute Error:', metrics.mean_absolute_error(y_test, y_pred)) "
      ],
      "execution_count": null,
      "outputs": [
        {
          "output_type": "stream",
          "text": [
            "Mean Absolute Error: 4.183859899002982\n"
          ],
          "name": "stdout"
        }
      ]
    }
  ]
}
